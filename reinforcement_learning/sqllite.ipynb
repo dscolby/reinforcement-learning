{
 "cells": [
  {
   "cell_type": "code",
   "execution_count": 30,
   "metadata": {},
   "outputs": [],
   "source": [
    "import sqlite3\n",
    "\n",
    "# Create a SQL connection to our SQLite database\n",
    "con = sqlite3.connect(\"C:\\\\Users\\\\dscol\\\\Downloads\\\\AISVesselTracks2022\\\\AISVesselTracks2022\\\\AISVesselTracks2022.sqlite\")\n",
    "cur = con.cursor()"
   ]
  },
  {
   "cell_type": "code",
   "execution_count": 31,
   "metadata": {},
   "outputs": [
    {
     "name": "stdout",
     "output_type": "stream",
     "text": [
      "('st_spatial_reference_systems',)\n",
      "('st_aux_spatial_reference_systems',)\n",
      "('sqlite_sequence',)\n",
      "('st_geometry_columns',)\n",
      "('st_vtspindex_interface',)\n",
      "('AISVesselTracks2022',)\n",
      "('st_spindex__AISVesselTracks2022_Shape',)\n",
      "('st_spindex__AISVesselTracks2022_Shape_rowid',)\n",
      "('st_spindex__AISVesselTracks2022_Shape_node',)\n",
      "('st_spindex__AISVesselTracks2022_Shape_parent',)\n"
     ]
    }
   ],
   "source": [
    "for row in cur.execute(\"SELECT name FROM sqlite_master WHERE type='table';\"):\n",
    "    print(row)"
   ]
  },
  {
   "cell_type": "code",
   "execution_count": 32,
   "metadata": {},
   "outputs": [
    {
     "name": "stdout",
     "output_type": "stream",
     "text": [
      "(0, 'OBJECTID', 'INTEGER', 1, None, 1)\n",
      "(1, 'Shape', 'geometryblob', 0, None, 0)\n",
      "(2, 'MMSI', 'int32', 0, None, 0)\n",
      "(3, 'TrackStartTime', 'realdate', 0, None, 0)\n",
      "(4, 'TrackEndTime', 'realdate', 0, None, 0)\n",
      "(5, 'VesselType', 'int32', 0, None, 0)\n",
      "(6, 'Length', 'float64', 0, None, 0)\n",
      "(7, 'Width', 'float64', 0, None, 0)\n",
      "(8, 'Draft', 'float64', 0, None, 0)\n",
      "(9, 'DurationMinutes', 'int32', 0, None, 0)\n",
      "(10, 'VesselGroup', 'text(25)', 0, None, 0)\n"
     ]
    }
   ],
   "source": [
    "for row in cur.execute(\"PRAGMA table_info(AISVesselTracks2022)\"):\n",
    "    print(row)"
   ]
  },
  {
   "cell_type": "code",
   "execution_count": 13,
   "metadata": {},
   "outputs": [
    {
     "name": "stdout",
     "output_type": "stream",
     "text": [
      "(123456789,)\n",
      "(123456789,)\n",
      "(123456789,)\n",
      "(123456789,)\n",
      "(123456789,)\n"
     ]
    }
   ],
   "source": [
    "for row in cur.execute(\"SELECT MMSI FROM AISVesselTracks2022 LIMIT 5;\"):\n",
    "    print(row)"
   ]
  }
 ],
 "metadata": {
  "kernelspec": {
   "display_name": "reinforcement-learning-W_IpFacJ-py3.11",
   "language": "python",
   "name": "python3"
  },
  "language_info": {
   "codemirror_mode": {
    "name": "ipython",
    "version": 3
   },
   "file_extension": ".py",
   "mimetype": "text/x-python",
   "name": "python",
   "nbconvert_exporter": "python",
   "pygments_lexer": "ipython3",
   "version": "3.11.2"
  },
  "orig_nbformat": 4
 },
 "nbformat": 4,
 "nbformat_minor": 2
}
